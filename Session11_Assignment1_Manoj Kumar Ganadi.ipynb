{
 "cells": [
  {
   "cell_type": "raw",
   "metadata": {},
   "source": [
    "Problem Statement 1:\n",
    "\n",
    "\"\" You survey households in your area to find the average rent they are paying.Find thestandard deviation from the following data:$1550, $1700, $900, $850, $1000, $950 \"\""
   ]
  },
  {
   "cell_type": "code",
   "execution_count": 2,
   "metadata": {},
   "outputs": [
    {
     "name": "stdout",
     "output_type": "stream",
     "text": [
      "Values using traditional formula method\n",
      " **************************************\n",
      "Mean of the average rent data     :  1158.3333333333333\n",
      "Variance of the average rent data :  135416.6666666667\n",
      "Standard Deviation of the data.   :  367.99003609699366\n",
      "Values using numpy stats method\n",
      " ******************************\n",
      "Mean of the average rent data     :  1158.3333333333333\n",
      "Variance of the average rent data :  135416.6666666667\n",
      "Standard Deviation of the data.   :  367.99003609699366\n",
      "Values using Statistics Library method\n",
      " ************************************\n",
      "Mean of the average rent data     :  1158.3333333333333\n",
      "Variance of the average rent data :  135416.66666666666\n",
      "Standard Deviation of the data.   :  367.9900360969936\n"
     ]
    }
   ],
   "source": [
    "# Import the required modules \n",
    "import numpy as np\n",
    "import statistics as stats\n",
    "from math import sqrt\n",
    "\n",
    "#Calculate using traditional method: Create functions for mean, variance and standard deviation\n",
    "\n",
    "def get_mean(arr1):\n",
    "    return(sum(arr1)/len(arr1))\n",
    "\n",
    "def get_var(arr1,meanx):\n",
    "    return(sum([(val - meanx)**2 for val in arr1])/(len(arr1)-1))\n",
    "\n",
    "def get_std_dev(var1):\n",
    "    return (sqrt(var1))\n",
    "\n",
    "avg_rent=[1550,1700,900,850,1000,950]\n",
    "\n",
    "mean_trad=get_mean(avg_rent)\n",
    "var_trad=get_var(avg_rent,mean_trad)\n",
    "std_dev_trad=get_std_dev(var_trad)\n",
    "\n",
    "print('Values using traditional formula method\\n', '*'*38)\n",
    "print('Mean of the average rent data     : ', mean_trad)\n",
    "print('Variance of the average rent data : ', var_trad)\n",
    "print('Standard Deviation of the data.   : ', std_dev_trad)\n",
    "\n",
    "#Calculate using numpy stats method: \n",
    "mean_np=np.mean(avg_rent)\n",
    "var_np=np.var(avg_rent,ddof=1)\n",
    "std_dev_np=np.std(avg_rent,ddof=1)\n",
    "\n",
    "print('Values using numpy stats method\\n', '*'*30)\n",
    "print('Mean of the average rent data     : ', mean_np)\n",
    "print('Variance of the average rent data : ', var_np)\n",
    "print('Standard Deviation of the data.   : ', std_dev_np)\n",
    "\n",
    "#Calculate using statistics library method: \n",
    "mean_stats=stats.mean(avg_rent)\n",
    "var_stats=stats.variance(avg_rent)\n",
    "std_dev_stats=stats.stdev(avg_rent)\n",
    "\n",
    "print('Values using Statistics Library method\\n', '*'*36)\n",
    "print('Mean of the average rent data     : ', mean_stats)\n",
    "print('Variance of the average rent data : ', var_stats)\n",
    "print('Standard Deviation of the data.   : ', std_dev_stats)"
   ]
  },
  {
   "cell_type": "raw",
   "metadata": {},
   "source": [
    "Problem Statement 2:\n",
    "\n",
    "Find the variance for the following set of data representing trees in California (heights infeet):3, 21, 98, 203, 17, 9"
   ]
  },
  {
   "cell_type": "code",
   "execution_count": 3,
   "metadata": {},
   "outputs": [
    {
     "name": "stdout",
     "output_type": "stream",
     "text": [
      "Variance of the tree height data using traditional formula method :  6219.9 feets\n",
      "\n",
      "Variance of the tree height data using numpy var method :  6219.9 feets\n",
      "\n",
      "Variance of the tree height data using statistics method :  6219.9 feets\n",
      "\n"
     ]
    }
   ],
   "source": [
    "#Calculate using traditional method: Use functions created in the previous problem.\n",
    "\n",
    "hgts_trees=[3,21,98,203,17,9]\n",
    "var1_trad = get_var(hgts_trees,get_mean(hgts_trees))\n",
    "\n",
    "print('Variance of the tree height data using traditional formula method : ', var1_trad, 'feets\\n')\n",
    "\n",
    "#Calculate using numpy stats method.\n",
    "\n",
    "var1_np = np.var(hgts_trees,ddof=1)\n",
    "\n",
    "print('Variance of the tree height data using numpy var method : ', var1_np, 'feets\\n')\n",
    "\n",
    "#Calculate using numpy stats method.\n",
    "\n",
    "var1_stats = stats.variance(hgts_trees)\n",
    "\n",
    "print('Variance of the tree height data using statistics method : ', var1_stats, 'feets\\n')"
   ]
  },
  {
   "cell_type": "raw",
   "metadata": {},
   "source": [
    "Problem Statement 3:\n",
    "\n",
    "In a class on 100 students, 80 students passed in all subjects, 10 failed in one subject, 7 failed in two subjects and 3 failed \n",
    "in three subjects. Find the probability distribution ofthe variable for number of subjects a student from the given class has \n",
    "failed in."
   ]
  },
  {
   "cell_type": "code",
   "execution_count": 4,
   "metadata": {},
   "outputs": [
    {
     "name": "stdout",
     "output_type": "stream",
     "text": [
      " Probability Distribution for the number of subjects a student failed for: \n",
      " ************************************************************************* \n",
      "    Failed Subject  Probability\n",
      "0               0         0.80\n",
      "1               1         0.10\n",
      "2               2         0.07\n",
      "3               3         0.03\n"
     ]
    },
    {
     "data": {
      "image/png": "[encoded data removed]",
      "text/plain": [
       "<Figure size 432x288 with 1 Axes>"
      ]
     },
     "metadata": {
      "needs_background": "light"
     },
     "output_type": "display_data"
    }
   ],
   "source": [
    "# Import matplotlib for the probability distribution plot\n",
    "\n",
    "import matplotlib.pyplot as plt\n",
    "%matplotlib inline\n",
    "import pandas as pd\n",
    "\n",
    "# Define list for students based on the subjects failed and the subjects.\n",
    "\n",
    "tot_num_stdnts=100\n",
    "students=[80,10,7,3]\n",
    "failed_sub=[0,1,2,3]\n",
    "\n",
    "# Get the probability distribution. Let df be the distribution dataframe. \n",
    "prob_failed_students=[stud/tot_num_stdnts for stud in students]\n",
    "df = pd.DataFrame({'Failed Subject':failed_sub, 'Probability':prob_failed_students})\n",
    "print(' Probability Distribution for the number of subjects a student failed for: \\n','*'*73, '\\n', df)\n",
    "\n",
    "# Plot the probability distribution.\n",
    "plt.plot(df[\"Failed Subject\"],df[\"Probability\"])\n",
    "plt.xlabel('Failed Subjects')\n",
    "plt.ylabel('Probability Distribution')\n",
    "plt.title('Probability Distribution of students failed in subjects')\n",
    "plt.show()"
   ]
  },
  {
   "cell_type": "code",
   "execution_count": null,
   "metadata": {},
   "outputs": [],
   "source": []
  },
  {
   "cell_type": "code",
   "execution_count": null,
   "metadata": {},
   "outputs": [],
   "source": []
  }
 ],
 "metadata": {
  "kernelspec": {
   "display_name": "Python 3",
   "language": "python",
   "name": "python3"
  },
  "language_info": {
   "codemirror_mode": {
    "name": "ipython",
    "version": 3
   },
   "file_extension": ".py",
   "mimetype": "text/x-python",
   "name": "python",
   "nbconvert_exporter": "python",
   "pygments_lexer": "ipython3",
   "version": "3.7.0"
  }
 },
 "nbformat": 4,
 "nbformat_minor": 2
}
